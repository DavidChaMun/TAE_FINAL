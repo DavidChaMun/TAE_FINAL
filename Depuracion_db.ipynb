{
 "cells": [
  {
   "cell_type": "code",
   "execution_count": 388,
   "metadata": {},
   "outputs": [],
   "source": [
    "import pandas as pd \n",
    "from sklearn import preprocessing\n",
    "from sklearn.tree import DecisionTreeClassifier \n",
    "from sklearn.tree import DecisionTreeRegressor \n",
    "from sklearn import metrics \n",
    "from sklearn.ensemble.forest import RandomForestClassifier\n",
    "from sklearn.ensemble.forest import RandomForestRegressor\n",
    "import os\n",
    "import re"
   ]
  },
  {
   "cell_type": "code",
   "execution_count": 418,
   "metadata": {},
   "outputs": [
    {
     "data": {
      "text/html": [
       "<div>\n",
       "<style scoped>\n",
       "    .dataframe tbody tr th:only-of-type {\n",
       "        vertical-align: middle;\n",
       "    }\n",
       "\n",
       "    .dataframe tbody tr th {\n",
       "        vertical-align: top;\n",
       "    }\n",
       "\n",
       "    .dataframe thead th {\n",
       "        text-align: right;\n",
       "    }\n",
       "</style>\n",
       "<table border=\"1\" class=\"dataframe\">\n",
       "  <thead>\n",
       "    <tr style=\"text-align: right;\">\n",
       "      <th></th>\n",
       "      <th>age</th>\n",
       "      <th>workclass</th>\n",
       "      <th>fnlwgt</th>\n",
       "      <th>education</th>\n",
       "      <th>marital_status</th>\n",
       "      <th>ocupation</th>\n",
       "      <th>ethnicity</th>\n",
       "      <th>gender</th>\n",
       "      <th>capital_gain</th>\n",
       "      <th>capital_loss</th>\n",
       "      <th>hours_per_week</th>\n",
       "      <th>native_country</th>\n",
       "      <th>income</th>\n",
       "    </tr>\n",
       "  </thead>\n",
       "  <tbody>\n",
       "    <tr>\n",
       "      <th>15054</th>\n",
       "      <td>33</td>\n",
       "      <td>Private</td>\n",
       "      <td>245211</td>\n",
       "      <td>Bachelors</td>\n",
       "      <td>Never-married</td>\n",
       "      <td>Prof-specialty</td>\n",
       "      <td>White</td>\n",
       "      <td>Male</td>\n",
       "      <td>0</td>\n",
       "      <td>0</td>\n",
       "      <td>40</td>\n",
       "      <td>United-States</td>\n",
       "      <td>&lt;=50K.</td>\n",
       "    </tr>\n",
       "    <tr>\n",
       "      <th>15055</th>\n",
       "      <td>39</td>\n",
       "      <td>Private</td>\n",
       "      <td>215419</td>\n",
       "      <td>Bachelors</td>\n",
       "      <td>Divorced</td>\n",
       "      <td>Prof-specialty</td>\n",
       "      <td>White</td>\n",
       "      <td>Female</td>\n",
       "      <td>0</td>\n",
       "      <td>0</td>\n",
       "      <td>36</td>\n",
       "      <td>United-States</td>\n",
       "      <td>&lt;=50K.</td>\n",
       "    </tr>\n",
       "    <tr>\n",
       "      <th>15056</th>\n",
       "      <td>38</td>\n",
       "      <td>Private</td>\n",
       "      <td>374983</td>\n",
       "      <td>Bachelors</td>\n",
       "      <td>Married</td>\n",
       "      <td>Prof-specialty</td>\n",
       "      <td>White</td>\n",
       "      <td>Male</td>\n",
       "      <td>0</td>\n",
       "      <td>0</td>\n",
       "      <td>50</td>\n",
       "      <td>United-States</td>\n",
       "      <td>&lt;=50K.</td>\n",
       "    </tr>\n",
       "    <tr>\n",
       "      <th>15057</th>\n",
       "      <td>44</td>\n",
       "      <td>Private</td>\n",
       "      <td>83891</td>\n",
       "      <td>Bachelors</td>\n",
       "      <td>Divorced</td>\n",
       "      <td>Adm-clerical</td>\n",
       "      <td>Asian-Pac-Islander</td>\n",
       "      <td>Male</td>\n",
       "      <td>5455</td>\n",
       "      <td>0</td>\n",
       "      <td>40</td>\n",
       "      <td>United-States</td>\n",
       "      <td>&lt;=50K.</td>\n",
       "    </tr>\n",
       "    <tr>\n",
       "      <th>15058</th>\n",
       "      <td>35</td>\n",
       "      <td>Self-emp-inc</td>\n",
       "      <td>182148</td>\n",
       "      <td>Bachelors</td>\n",
       "      <td>Married</td>\n",
       "      <td>Exec-managerial</td>\n",
       "      <td>White</td>\n",
       "      <td>Male</td>\n",
       "      <td>0</td>\n",
       "      <td>0</td>\n",
       "      <td>60</td>\n",
       "      <td>United-States</td>\n",
       "      <td>&gt;50K.</td>\n",
       "    </tr>\n",
       "  </tbody>\n",
       "</table>\n",
       "</div>"
      ],
      "text/plain": [
       "       age      workclass  fnlwgt   education  marital_status  \\\n",
       "15054   33        Private  245211   Bachelors   Never-married   \n",
       "15055   39        Private  215419   Bachelors        Divorced   \n",
       "15056   38        Private  374983   Bachelors         Married   \n",
       "15057   44        Private   83891   Bachelors        Divorced   \n",
       "15058   35   Self-emp-inc  182148   Bachelors         Married   \n",
       "\n",
       "              ocupation            ethnicity   gender  capital_gain  \\\n",
       "15054    Prof-specialty                White     Male             0   \n",
       "15055    Prof-specialty                White   Female             0   \n",
       "15056    Prof-specialty                White     Male             0   \n",
       "15057      Adm-clerical   Asian-Pac-Islander     Male          5455   \n",
       "15058   Exec-managerial                White     Male             0   \n",
       "\n",
       "       capital_loss  hours_per_week  native_country   income  \n",
       "15054             0              40   United-States   <=50K.  \n",
       "15055             0              36   United-States   <=50K.  \n",
       "15056             0              50   United-States   <=50K.  \n",
       "15057             0              40   United-States   <=50K.  \n",
       "15058             0              60   United-States    >50K.  "
      ]
     },
     "execution_count": 418,
     "metadata": {},
     "output_type": "execute_result"
    }
   ],
   "source": [
    "train_data_set = pd.read_csv(\"data/dataset_tae_final_no_na_mod.csv\", encoding = \"ISO-8859-1\")\n",
    "test_data_set = pd.read_csv(\"data/test_tae_no_na_mod.csv\", encoding = \"ISO-8859-1\")\n",
    "test_data_set.tail()"
   ]
  },
  {
   "cell_type": "code",
   "execution_count": 419,
   "metadata": {},
   "outputs": [],
   "source": [
    "test_data_set[\"income\"]=test_data_set[\"income\"].replace(\" <=50K.\", \" <=50K\")\n",
    "test_data_set[\"income\"]=test_data_set[\"income\"].replace(\" >50K.\", \" >50K\")"
   ]
  },
  {
   "cell_type": "code",
   "execution_count": null,
   "metadata": {},
   "outputs": [],
   "source": []
  },
  {
   "cell_type": "code",
   "execution_count": 416,
   "metadata": {},
   "outputs": [
    {
     "data": {
      "text/plain": [
       "15054    <=50K\n",
       "15055    <=50K\n",
       "15056    <=50K\n",
       "15057    <=50K\n",
       "15058     >50K\n",
       "Name: income, dtype: object"
      ]
     },
     "execution_count": 416,
     "metadata": {},
     "output_type": "execute_result"
    }
   ],
   "source": [
    "test_data_set[\"income\"].tail()"
   ]
  },
  {
   "cell_type": "code",
   "execution_count": 432,
   "metadata": {},
   "outputs": [],
   "source": [
    "class TAERandomForestClassifier(object):\n",
    "    lab_encoders = {}\n",
    "    dummy_encoder = None\n",
    "    rfc_model = None\n",
    "    n_estimators = 1300\n",
    "    max_features = 5\n",
    "    \n",
    "    def encode_fit(self, cat_data):\n",
    "        #Encodes string to numeric labels\n",
    "        tdc_set_encoded = cat_data.copy(deep=True)\n",
    "        for cn in cat_data.columns:\n",
    "            self.lab_encoders[cn] = preprocessing.LabelEncoder()\n",
    "            self.lab_encoders[cn].fit(cat_data[str(cn)])\n",
    "            tdc_set_encoded[str(cn)] = self.lab_encoders[cn].transform(cat_data[str(cn)])\n",
    "        \n",
    "        #Encodes to dummy dataset\n",
    "        self.dummy_encoder = preprocessing.OneHotEncoder(categories=\"auto\")\n",
    "        self.dummy_encoder.fit(tdc_set_encoded[cat_data.columns])\n",
    "        \n",
    "        #print(len(self.dummy_encoder.get_feature_names()))\n",
    "        \n",
    "        encoded_cat_data = pd.DataFrame(data=self.dummy_encoder.transform(tdc_set_encoded).todense(), columns=self.dummy_encoder.get_feature_names())\n",
    "        return encoded_cat_data\n",
    "    \n",
    "    def encode(self, cat_data):\n",
    "        for cn in cat_data.columns:\n",
    "              cat_data[str(cn)] = self.lab_encoders[cn].transform(cat_data[str(cn)]) \n",
    "        \n",
    "        \n",
    "        #Encodes to dummy dataset\n",
    "        encoded_cat_data = pd.DataFrame(data=self.dummy_encoder.transform(cat_data).todense(), columns=self.dummy_encoder.get_feature_names())    \n",
    "        return encoded_cat_data       \n",
    "    def fit(self, x_train, y_train, cat_cols, num_cols):\n",
    "        #Separates dataset in categorical and numbers\n",
    "        x_train_num = x_train[num_cols].copy(deep=True)\n",
    "        x_train_cat = x_train[cat_cols].copy(deep=True)\n",
    "        \n",
    "        x_train_cat = self.encode_fit(x_train_cat)\n",
    "        \n",
    "        x_train_num.reset_index(drop=True, inplace=True)\n",
    "        x_train_cat.reset_index(drop=True, inplace=True)\n",
    "        \n",
    "        f_x_train = pd.concat([x_train_num, x_train_cat], axis=1)\n",
    "\n",
    "        self.rfc_model = RandomForestClassifier(n_estimators=self.n_estimators, criterion=\"entropy\", max_features=self.max_features)\n",
    "        self.rfc_model = self.rfc_model.fit(f_x_train, y_train)\n",
    "        \n",
    "    def predict(self, x_predict, cat_cols, num_cols):\n",
    "        #Separates dataset in categorical and numbers\n",
    "        x_predict_num = x_predict[num_cols].copy(deep=True)\n",
    "        x_predict_cat = x_predict[cat_cols].copy(deep=True)\n",
    "        \n",
    "        x_predict_cat = self.encode(x_predict_cat)\n",
    "        f_x_predict = pd.concat([x_predict_num, x_predict_cat], axis=1)\n",
    "        y_pred = self.rfc_model.predict(f_x_predict)\n",
    "        return y_pred\n",
    "    \n",
    "    def cal_conf_matrix(self, x_test, y_test, catego_columns, numeric_cols):\n",
    "        y_pred = self.predict(x_test, catego_columns, numeric_cols)\n",
    "        # [[VP, FP], [FN, VN]]\n",
    "        print(\"Matriz de confusión:\")\n",
    "        print(metrics.confusion_matrix(y_test, y_pred))\n",
    "\n",
    "        #Correr varias veces y ver como varia. Basado en el indice de jaccard\n",
    "        print(\"Precisión:\", metrics.accuracy_score(y_test, y_pred))\n"
   ]
  },
  {
   "cell_type": "code",
   "execution_count": 433,
   "metadata": {},
   "outputs": [],
   "source": [
    "catego_columns = ['education',\n",
    " 'workclass',\n",
    " 'marital_status',\n",
    " 'ocupation',\n",
    " 'ethnicity',\n",
    " 'gender',\n",
    " 'native_country']\n",
    "\n",
    "numeric_cols = ['age', 'fnlwgt', 'capital_gain', 'capital_loss', 'hours_per_week']\n",
    "\n",
    "forest = TAERandomForestClassifier()\n",
    "forest.fit(train_data_set.loc[:,train_data_set.columns!=\"income\",],train_data_set[\"income\"], catego_columns, numeric_cols)"
   ]
  },
  {
   "cell_type": "code",
   "execution_count": 430,
   "metadata": {},
   "outputs": [],
   "source": [
    "y_pred = forest.predict(test_data_set.loc[:,test_data_set.columns!=\"income\",], catego_columns, numeric_cols)\n"
   ]
  },
  {
   "cell_type": "code",
   "execution_count": null,
   "metadata": {},
   "outputs": [],
   "source": [
    "forest.cal_conf_matrix(test_data_set.loc[:,test_data_set.columns!=\"income\",], test_data_set[\"income\"], catego_columns, numeric_cols)"
   ]
  },
  {
   "cell_type": "code",
   "execution_count": 417,
   "metadata": {},
   "outputs": [
    {
     "data": {
      "text/plain": [
       "'>50K'"
      ]
     },
     "execution_count": 417,
     "metadata": {},
     "output_type": "execute_result"
    }
   ],
   "source": [
    "test_data_set[\"income\"][1]"
   ]
  },
  {
   "cell_type": "code",
   "execution_count": 420,
   "metadata": {},
   "outputs": [
    {
     "data": {
      "text/plain": [
       "True"
      ]
     },
     "execution_count": 420,
     "metadata": {},
     "output_type": "execute_result"
    }
   ],
   "source": [
    "test_data_set[\"income\"][1]==y_pred[1]"
   ]
  },
  {
   "cell_type": "code",
   "execution_count": 421,
   "metadata": {},
   "outputs": [
    {
     "data": {
      "text/plain": [
       "' <=50K'"
      ]
     },
     "execution_count": 421,
     "metadata": {},
     "output_type": "execute_result"
    }
   ],
   "source": [
    "train_data_set[\"income\"][1]"
   ]
  },
  {
   "cell_type": "code",
   "execution_count": 426,
   "metadata": {},
   "outputs": [
    {
     "name": "stdout",
     "output_type": "stream",
     "text": [
      "Matriz de confusión:\n",
      "[[10453   906]\n",
      " [ 1434  2266]]\n",
      "Precisión: 0.8446111959625473\n"
     ]
    }
   ],
   "source": [
    "# [[VP, FP], [FN, VN]]\n",
    "print(\"Matriz de confusión:\")\n",
    "print(metrics.confusion_matrix(test_data_set[\"income\"], y_pred))\n",
    "\n",
    "#Correr varias veces y ver como varia. Basado en el indice de jaccard\n",
    "print(\"Precisión:\",metrics.accuracy_score(test_data_set[\"income\"], y_pred))\n",
    "#print(metrics.precision_score(y_test, y_pred))"
   ]
  },
  {
   "cell_type": "code",
   "execution_count": null,
   "metadata": {},
   "outputs": [],
   "source": []
  }
 ],
 "metadata": {
  "kernelspec": {
   "display_name": "Python 3",
   "language": "python",
   "name": "python3"
  },
  "language_info": {
   "codemirror_mode": {
    "name": "ipython",
    "version": 3
   },
   "file_extension": ".py",
   "mimetype": "text/x-python",
   "name": "python",
   "nbconvert_exporter": "python",
   "pygments_lexer": "ipython3",
   "version": "3.7.3"
  }
 },
 "nbformat": 4,
 "nbformat_minor": 2
}
