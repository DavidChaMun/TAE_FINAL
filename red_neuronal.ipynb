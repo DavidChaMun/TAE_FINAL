{
 "cells": [
  {
   "cell_type": "markdown",
   "metadata": {},
   "source": [
    "## Red neuronal utilizando Keras"
   ]
  },
  {
   "cell_type": "markdown",
   "metadata": {},
   "source": [
    "Ahora construiremos una red neuronal utilizando la libreria de Keras para implementar tensorflow.\n",
    "Utilizaremos la base de datos sin valores faltantes para entrenar el modelo, y mediante validación cruzada probaremos su efectividad."
   ]
  },
  {
   "cell_type": "markdown",
   "metadata": {},
   "source": [
    "### Cargando librerias necesarias"
   ]
  },
  {
   "cell_type": "code",
   "execution_count": 1,
   "metadata": {},
   "outputs": [],
   "source": [
    "from __future__ import absolute_import, division, print_function, unicode_literals\n",
    "import tensorflow as tf\n",
    "tf.enable_eager_execution()\n",
    "import numpy as np # linear algebra\n",
    "import pandas as pd\n",
    "import keras\n",
    "import os\n",
    "import qgrid\n",
    "import functools\n"
   ]
  },
  {
   "cell_type": "code",
   "execution_count": 2,
   "metadata": {},
   "outputs": [],
   "source": [
    "train = pd.read_csv('data/dataset_tae_final_no_na_mod.csv')\n",
    "test = pd.read_csv('data/test_tae_no_na_mod.csv')"
   ]
  },
  {
   "cell_type": "code",
   "execution_count": 59,
   "metadata": {},
   "outputs": [
    {
     "data": {
      "application/vnd.jupyter.widget-view+json": {
       "model_id": "63b6285efa8449628707a07a48efa6f2",
       "version_major": 2,
       "version_minor": 0
      },
      "text/plain": [
       "QgridWidget(grid_options={'fullWidthRows': True, 'syncColumnCellResize': True, 'forceFitColumns': True, 'defau…"
      ]
     },
     "metadata": {},
     "output_type": "display_data"
    }
   ],
   "source": [
    "qqview = qgrid.show_grid(train)\n",
    "qqview"
   ]
  },
  {
   "cell_type": "markdown",
   "metadata": {},
   "source": [
    "Definimos nuestra variable objetivo y nuestras caracteristicas"
   ]
  },
  {
   "cell_type": "code",
   "execution_count": 3,
   "metadata": {},
   "outputs": [
    {
     "data": {
      "text/plain": [
       "age                int64\n",
       "workclass         object\n",
       "fnlwgt             int64\n",
       "education         object\n",
       "marital_status    object\n",
       "ocupation         object\n",
       "ethnicity         object\n",
       "gender            object\n",
       "capital_gain       int64\n",
       "capital_loss       int64\n",
       "hours_per_week     int64\n",
       "native_country    object\n",
       "income            object\n",
       "dtype: object"
      ]
     },
     "execution_count": 3,
     "metadata": {},
     "output_type": "execute_result"
    }
   ],
   "source": [
    "column = list(train.columns)\n",
    "features = column[:-1]\n",
    "label = column[-1]\n",
    "#Chequeo de tipos de las variables\n",
    "train.dtypes"
   ]
  },
  {
   "cell_type": "markdown",
   "metadata": {},
   "source": [
    "Vemos que tenemos variables categoricas, debemos transformarlas a variables dummies par apoder crear la red neuronal:"
   ]
  },
  {
   "cell_type": "code",
   "execution_count": 4,
   "metadata": {},
   "outputs": [],
   "source": [
    "catego_columns = ['education', 'workclass', 'marital_status', \n",
    "             'ethnicity', 'income','gender',\n",
    "                  'native_country', 'ocupation']\n",
    "#Transformamos variables object a categoricas\n",
    "for col in catego_columns:\n",
    "    train[col] = pd.Categorical(train[col])\n",
    "    test[col] = pd.Categorical(test[col])\n",
    "\n",
    "#Transformamos nuestra variable de objetivo para la clasificacion\n",
    "train[label] = train[label].cat.codes\n",
    "test[label] = test[label].cat.codes\n",
    "\n",
    "#Creamos variables dummies con las categoricas\n",
    "train_dataset=pd.get_dummies(train)\n",
    "test_dataset=pd.get_dummies(test)"
   ]
  },
  {
   "cell_type": "markdown",
   "metadata": {},
   "source": [
    "Chequeamos que las variables de nuestro conjunto de entrenamiento sean las mismas que las de validación"
   ]
  },
  {
   "cell_type": "code",
   "execution_count": 5,
   "metadata": {},
   "outputs": [],
   "source": [
    "for elem in list(train_dataset.columns):\n",
    "    if not((elem in list(test_dataset.columns))):\n",
    "        print(elem)\n",
    "#Everything is fine"
   ]
  },
  {
   "cell_type": "code",
   "execution_count": 6,
   "metadata": {},
   "outputs": [
    {
     "data": {
      "text/plain": [
       "Index(['age', 'fnlwgt', 'capital_gain', 'capital_loss', 'hours_per_week',\n",
       "       'income', 'workclass_ Federal-gov', 'workclass_ Local-gov',\n",
       "       'workclass_ Private', 'workclass_ Self-emp-inc',\n",
       "       'workclass_ Self-emp-not-inc', 'workclass_ State-gov',\n",
       "       'workclass_ Without-pay', 'education_ 10th', 'education_ 11th',\n",
       "       'education_ 12th', 'education_ 1st-4th', 'education_ 5th-6th',\n",
       "       'education_ 7th-8th', 'education_ 9th', 'education_ Assoc-acdm',\n",
       "       'education_ Assoc-voc', 'education_ Bachelors', 'education_ Doctorate',\n",
       "       'education_ HS-grad', 'education_ Masters', 'education_ Preschool',\n",
       "       'education_ Prof-school', 'education_ Some-college',\n",
       "       'marital_status_ Divorced', 'marital_status_ Never-married',\n",
       "       'marital_status_ Separated', 'marital_status_ Widowed',\n",
       "       'marital_status_Married', 'ocupation_ Adm-clerical',\n",
       "       'ocupation_ Armed-Forces', 'ocupation_ Craft-repair',\n",
       "       'ocupation_ Exec-managerial', 'ocupation_ Farming-fishing',\n",
       "       'ocupation_ Handlers-cleaners', 'ocupation_ Machine-op-inspct',\n",
       "       'ocupation_ Other-service', 'ocupation_ Priv-house-serv',\n",
       "       'ocupation_ Prof-specialty', 'ocupation_ Protective-serv',\n",
       "       'ocupation_ Sales', 'ocupation_ Tech-support',\n",
       "       'ocupation_ Transport-moving', 'ethnicity_ Amer-Indian-Eskimo',\n",
       "       'ethnicity_ Asian-Pac-Islander', 'ethnicity_ Black', 'ethnicity_ Other',\n",
       "       'ethnicity_ White', 'gender_ Female', 'gender_ Male',\n",
       "       'native_country_ Mexico', 'native_country_ United-States',\n",
       "       'native_country_other'],\n",
       "      dtype='object')"
      ]
     },
     "execution_count": 6,
     "metadata": {},
     "output_type": "execute_result"
    }
   ],
   "source": [
    "columns = train_dataset.columns\n",
    "columns\n",
    "#target = train_dataset.pop(\"income\")"
   ]
  },
  {
   "cell_type": "markdown",
   "metadata": {},
   "source": [
    "Finalmente convertimos nuestra base de datos al formato de tensorflow."
   ]
  },
  {
   "cell_type": "code",
   "execution_count": 7,
   "metadata": {},
   "outputs": [],
   "source": [
    "df = train_dataset.copy(deep=True)\n",
    "target = df.pop('income')"
   ]
  },
  {
   "cell_type": "code",
   "execution_count": 8,
   "metadata": {},
   "outputs": [
    {
     "data": {
      "text/plain": [
       "tensorflow.python.data.ops.dataset_ops.DatasetV1Adapter"
      ]
     },
     "execution_count": 8,
     "metadata": {},
     "output_type": "execute_result"
    }
   ],
   "source": [
    "final_train = tf.data.Dataset.from_tensor_slices((train_dataset.values, target.values))\n",
    "final_train = final_train.shuffle(len(train)).batch(64)\n",
    "type(final_train)"
   ]
  },
  {
   "cell_type": "code",
   "execution_count": 10,
   "metadata": {},
   "outputs": [],
   "source": [
    "train_dataset.to_csv('train_dummies.csv')"
   ]
  },
  {
   "cell_type": "markdown",
   "metadata": {},
   "source": [
    "### Creando la red neuronal"
   ]
  },
  {
   "cell_type": "code",
   "execution_count": 12,
   "metadata": {},
   "outputs": [],
   "source": [
    "\n",
    "def get_compiled_model():\n",
    "  model = tf.keras.Sequential([\n",
    "    tf.keras.layers.Dense(10, activation='relu'),\n",
    "    tf.keras.layers.Dense(10, activation='relu'),\n",
    "    tf.keras.layers.Dense(1, activation='sigmoid')\n",
    "  ])\n",
    "\n",
    "  model.compile(optimizer='adam',\n",
    "                loss='binary_crossentropy',\n",
    "                metrics=['accuracy'])\n",
    "  return model"
   ]
  },
  {
   "cell_type": "code",
   "execution_count": 19,
   "metadata": {},
   "outputs": [
    {
     "ename": "ValueError",
     "evalue": "Please provide as model inputs either a single array or a list of arrays. You passed: x=       age  fnlwgt  capital_gain  capital_loss  hours_per_week  \\\n0       38  215646             0             0              40   \n1       53  234721             0             0              40   \n2       28  338409             0             0              40   \n3       37  284582             0             0              40   \n4       49  160187             0             0              16   \n5       52  209642             0             0              45   \n6       31   45781         14084             0              50   \n7       42  159449          5178             0              40   \n8       37  280464             0             0              80   \n9       30  141297             0             0              40   \n10      23  122272             0             0              30   \n11      32  205019             0             0              50   \n12      34  245487             0             0              45   \n13      25  176756             0             0              35   \n14      32  186824             0             0              40   \n15      38   28887             0             0              50   \n16      43  292175             0             0              45   \n17      40  193524             0             0              60   \n18      54  302146             0             0              20   \n19      35   76845             0             0              40   \n20      43  117037             0          2042              40   \n21      59  109015             0             0              40   \n22      56  216851             0             0              40   \n23      19  168294             0             0              40   \n24      39  367260             0             0              80   \n25      49  193366             0             0              40   \n26      23  190709             0             0              52   \n27      20  266015             0             0              44   \n28      45  386940             0          1408              40   \n29      30   59951             0             0              40   \n...    ...     ...           ...           ...             ...   \n30130   32  211349             0             0              40   \n30131   22  203715             0             0              40   \n30132   31  292592             0             0              40   \n30133   29  125976             0             0              35   \n30134   34  204461             0             0              60   \n30135   54  337992             0             0              50   \n30136   37  179137             0             0              39   \n30137   22  325033             0             0              35   \n30138   34  160216             0             0              55   \n30139   30  345898             0             0              46   \n30140   38  139180         15020             0              45   \n30141   45  252208             0             0              40   \n30142   45  119199             0             0              48   \n30143   31  199655             0             0              30   \n30144   39  111499             0             0              20   \n30145   37  198216             0             0              40   \n30146   43  260761             0             0              40   \n30147   65   99359          1086             0              60   \n30148   43  255835             0             0              40   \n30149   43   27242             0             0              50   \n30150   32   34066             0             0              40   \n30151   43   84661             0             0              45   \n30152   32  116138             0             0              11   \n30153   53  321865             0             0              40   \n30154   22  310152             0             0              40   \n30155   27  257302             0             0              38   \n30156   40  154374             0             0              40   \n30157   58  151910             0             0              40   \n30158   22  201490             0             0              20   \n30159   52  287927         15024             0              40   \n\n       workclass_ Federal-gov  workclass_ Local-gov  workclass_ Private  \\\n0                           0                     0                   1   \n1                           0                     0                   1   \n2                           0                     0                   1   \n3                           0                     0                   1   \n4                           0                     0                   1   \n5                           0                     0                   0   \n6                           0                     0                   1   \n7                           0                     0                   1   \n8                           0                     0                   1   \n9                           0                     0                   0   \n10                          0                     0                   1   \n11                          0                     0                   1   \n12                          0                     0                   1   \n13                          0                     0                   0   \n14                          0                     0                   1   \n15                          0                     0                   1   \n16                          0                     0                   0   \n17                          0                     0                   1   \n18                          0                     0                   1   \n19                          1                     0                   0   \n20                          0                     0                   1   \n21                          0                     0                   1   \n22                          0                     1                   0   \n23                          0                     0                   1   \n24                          0                     0                   1   \n25                          0                     0                   1   \n26                          0                     1                   0   \n27                          0                     0                   1   \n28                          0                     0                   1   \n29                          1                     0                   0   \n...                       ...                   ...                 ...   \n30130                       0                     0                   1   \n30131                       0                     0                   1   \n30132                       0                     0                   1   \n30133                       0                     0                   1   \n30134                       0                     0                   1   \n30135                       0                     0                   1   \n30136                       0                     0                   1   \n30137                       0                     0                   1   \n30138                       0                     0                   1   \n30139                       0                     0                   1   \n30140                       0                     0                   1   \n30141                       0                     0                   0   \n30142                       0                     1                   0   \n30143                       0                     0                   1   \n30144                       0                     1                   0   \n30145                       0                     0                   1   \n30146                       0                     0                   1   \n30147                       0                     0                   0   \n30148                       0                     0                   0   \n30149                       0                     0                   0   \n30150                       0                     0                   1   \n30151                       0                     0                   1   \n30152                       0                     0                   1   \n30153                       0                     0                   1   \n30154                       0                     0                   1   \n30155                       0                     0                   1   \n30156                       0                     0                   1   \n30157                       0                     0                   1   \n30158                       0                     0                   1   \n30159                       0                     0                   0   \n\n       workclass_ Self-emp-inc  workclass_ Self-emp-not-inc  \\\n0                            0                            0   \n1                            0                            0   \n2                            0                            0   \n3                            0                            0   \n4                            0                            0   \n5                            0                            1   \n6                            0                            0   \n7                            0                            0   \n8                            0                            0   \n9                            0                            0   \n10                           0                            0   \n11                           0                            0   \n12                           0                            0   \n13                           0                            1   \n14                           0                            0   \n15                           0                            0   \n16                           0                            1   \n17                           0                            0   \n18                           0                            0   \n19                           0                            0   \n20                           0                            0   \n21                           0                            0   \n22                           0                            0   \n23                           0                            0   \n24                           0                            0   \n25                           0                            0   \n26                           0                            0   \n27                           0                            0   \n28                           0                            0   \n29                           0                            0   \n...                        ...                          ...   \n30130                        0                            0   \n30131                        0                            0   \n30132                        0                            0   \n30133                        0                            0   \n30134                        0                            0   \n30135                        0                            0   \n30136                        0                            0   \n30137                        0                            0   \n30138                        0                            0   \n30139                        0                            0   \n30140                        0                            0   \n30141                        0                            0   \n30142                        0                            0   \n30143                        0                            0   \n30144                        0                            0   \n30145                        0                            0   \n30146                        0                            0   \n30147                        0                            1   \n30148                        0                            0   \n30149                        0                            1   \n30150                        0                            0   \n30151                        0                            0   \n30152                        0                            0   \n30153                        0                            0   \n30154                        0                            0   \n30155                        0                            0   \n30156                        0                            0   \n30157                        0                            0   \n30158                        0                            0   \n30159                        1                            0   \n\n               ...           ethnicity_ Amer-Indian-Eskimo  \\\n0              ...                                       0   \n1              ...                                       0   \n2              ...                                       0   \n3              ...                                       0   \n4              ...                                       0   \n5              ...                                       0   \n6              ...                                       0   \n7              ...                                       0   \n8              ...                                       0   \n9              ...                                       0   \n10             ...                                       0   \n11             ...                                       0   \n12             ...                                       1   \n13             ...                                       0   \n14             ...                                       0   \n15             ...                                       0   \n16             ...                                       0   \n17             ...                                       0   \n18             ...                                       0   \n19             ...                                       0   \n20             ...                                       0   \n21             ...                                       0   \n22             ...                                       0   \n23             ...                                       0   \n24             ...                                       0   \n25             ...                                       0   \n26             ...                                       0   \n27             ...                                       0   \n28             ...                                       0   \n29             ...                                       0   \n...            ...                                     ...   \n30130          ...                                       0   \n30131          ...                                       0   \n30132          ...                                       0   \n30133          ...                                       0   \n30134          ...                                       0   \n30135          ...                                       0   \n30136          ...                                       0   \n30137          ...                                       0   \n30138          ...                                       0   \n30139          ...                                       0   \n30140          ...                                       0   \n30141          ...                                       0   \n30142          ...                                       0   \n30143          ...                                       0   \n30144          ...                                       0   \n30145          ...                                       0   \n30146          ...                                       0   \n30147          ...                                       0   \n30148          ...                                       0   \n30149          ...                                       0   \n30150          ...                                       1   \n30151          ...                                       0   \n30152          ...                                       0   \n30153          ...                                       0   \n30154          ...                                       0   \n30155          ...                                       0   \n30156          ...                                       0   \n30157          ...                                       0   \n30158          ...                                       0   \n30159          ...                                       0   \n\n       ethnicity_ Asian-Pac-Islander  ethnicity_ Black  ethnicity_ Other  \\\n0                                  0                 0                 0   \n1                                  0                 1                 0   \n2                                  0                 1                 0   \n3                                  0                 0                 0   \n4                                  0                 1                 0   \n5                                  0                 0                 0   \n6                                  0                 0                 0   \n7                                  0                 0                 0   \n8                                  0                 1                 0   \n9                                  1                 0                 0   \n10                                 0                 0                 0   \n11                                 0                 1                 0   \n12                                 0                 0                 0   \n13                                 0                 0                 0   \n14                                 0                 0                 0   \n15                                 0                 0                 0   \n16                                 0                 0                 0   \n17                                 0                 0                 0   \n18                                 0                 1                 0   \n19                                 0                 1                 0   \n20                                 0                 0                 0   \n21                                 0                 0                 0   \n22                                 0                 0                 0   \n23                                 0                 0                 0   \n24                                 0                 0                 0   \n25                                 0                 0                 0   \n26                                 0                 0                 0   \n27                                 0                 1                 0   \n28                                 0                 0                 0   \n29                                 0                 0                 0   \n...                              ...               ...               ...   \n30130                              0                 0                 0   \n30131                              0                 0                 0   \n30132                              0                 0                 0   \n30133                              0                 0                 0   \n30134                              0                 0                 0   \n30135                              1                 0                 0   \n30136                              0                 0                 0   \n30137                              0                 1                 0   \n30138                              0                 0                 0   \n30139                              0                 1                 0   \n30140                              0                 1                 0   \n30141                              0                 0                 0   \n30142                              0                 0                 0   \n30143                              0                 0                 1   \n30144                              0                 0                 0   \n30145                              0                 0                 0   \n30146                              0                 0                 0   \n30147                              0                 0                 0   \n30148                              0                 0                 0   \n30149                              0                 0                 0   \n30150                              0                 0                 0   \n30151                              0                 0                 0   \n30152                              1                 0                 0   \n30153                              0                 0                 0   \n30154                              0                 0                 0   \n30155                              0                 0                 0   \n30156                              0                 0                 0   \n30157                              0                 0                 0   \n30158                              0                 0                 0   \n30159                              0                 0                 0   \n\n       ethnicity_ White  gender_ Female  gender_ Male  native_country_ Mexico  \\\n0                     1               0             1                       0   \n1                     0               0             1                       0   \n2                     0               1             0                       0   \n3                     1               1             0                       0   \n4                     0               1             0                       0   \n5                     1               0             1                       0   \n6                     1               1             0                       0   \n7                     1               0             1                       0   \n8                     0               0             1                       0   \n9                     0               0             1                       0   \n10                    1               1             0                       0   \n11                    0               0             1                       0   \n12                    0               0             1                       1   \n13                    1               0             1                       0   \n14                    1               0             1                       0   \n15                    1               0             1                       0   \n16                    1               1             0                       0   \n17                    1               0             1                       0   \n18                    0               1             0                       0   \n19                    0               0             1                       0   \n20                    1               0             1                       0   \n21                    1               1             0                       0   \n22                    1               0             1                       0   \n23                    1               0             1                       0   \n24                    1               0             1                       0   \n25                    1               0             1                       0   \n26                    1               0             1                       0   \n27                    0               0             1                       0   \n28                    1               0             1                       0   \n29                    1               0             1                       0   \n...                 ...             ...           ...                     ...   \n30130                 1               0             1                       0   \n30131                 1               0             1                       0   \n30132                 1               1             0                       0   \n30133                 1               1             0                       0   \n30134                 1               0             1                       0   \n30135                 0               0             1                       0   \n30136                 1               1             0                       0   \n30137                 0               0             1                       0   \n30138                 1               1             0                       0   \n30139                 0               0             1                       0   \n30140                 0               1             0                       0   \n30141                 1               1             0                       0   \n30142                 1               1             0                       0   \n30143                 0               1             0                       0   \n30144                 1               1             0                       0   \n30145                 1               1             0                       0   \n30146                 1               0             1                       1   \n30147                 1               0             1                       0   \n30148                 1               1             0                       0   \n30149                 1               0             1                       0   \n30150                 0               0             1                       0   \n30151                 1               0             1                       0   \n30152                 0               0             1                       0   \n30153                 1               0             1                       0   \n30154                 1               0             1                       0   \n30155                 1               1             0                       0   \n30156                 1               0             1                       0   \n30157                 1               1             0                       0   \n30158                 1               0             1                       0   \n30159                 1               1             0                       0   \n\n       native_country_ United-States  native_country_other  \n0                                  1                     0  \n1                                  1                     0  \n2                                  0                     1  \n3                                  1                     0  \n4                                  0                     1  \n5                                  1                     0  \n6                                  1                     0  \n7                                  1                     0  \n8                                  1                     0  \n9                                  0                     1  \n10                                 1                     0  \n11                                 1                     0  \n12                                 0                     0  \n13                                 1                     0  \n14                                 1                     0  \n15                                 1                     0  \n16                                 1                     0  \n17                                 1                     0  \n18                                 1                     0  \n19                                 1                     0  \n20                                 1                     0  \n21                                 1                     0  \n22                                 1                     0  \n23                                 1                     0  \n24                                 1                     0  \n25                                 1                     0  \n26                                 1                     0  \n27                                 1                     0  \n28                                 1                     0  \n29                                 1                     0  \n...                              ...                   ...  \n30130                              1                     0  \n30131                              1                     0  \n30132                              1                     0  \n30133                              1                     0  \n30134                              1                     0  \n30135                              0                     1  \n30136                              1                     0  \n30137                              1                     0  \n30138                              1                     0  \n30139                              1                     0  \n30140                              1                     0  \n30141                              1                     0  \n30142                              1                     0  \n30143                              1                     0  \n30144                              1                     0  \n30145                              1                     0  \n30146                              0                     0  \n30147                              1                     0  \n30148                              1                     0  \n30149                              1                     0  \n30150                              1                     0  \n30151                              1                     0  \n30152                              0                     1  \n30153                              1                     0  \n30154                              1                     0  \n30155                              1                     0  \n30156                              1                     0  \n30157                              1                     0  \n30158                              1                     0  \n30159                              1                     0  \n\n[30160 rows x 57 columns]",
     "output_type": "error",
     "traceback": [
      "\u001b[1;31m---------------------------------------------------------------------------\u001b[0m",
      "\u001b[1;31mValueError\u001b[0m                                Traceback (most recent call last)",
      "\u001b[1;32m<ipython-input-19-4a4ba3f43d83>\u001b[0m in \u001b[0;36m<module>\u001b[1;34m\u001b[0m\n\u001b[0;32m     10\u001b[0m \u001b[1;33m\u001b[0m\u001b[0m\n\u001b[0;32m     11\u001b[0m model.fit(x_train, y_train,epochs = 20, \n\u001b[1;32m---> 12\u001b[1;33m           steps_per_epoch=20)\n\u001b[0m",
      "\u001b[1;32mC:\\ProgramData\\Anaconda3\\lib\\site-packages\\tensorflow\\python\\keras\\engine\\training.py\u001b[0m in \u001b[0;36mfit\u001b[1;34m(self, x, y, batch_size, epochs, verbose, callbacks, validation_split, validation_data, shuffle, class_weight, sample_weight, initial_epoch, steps_per_epoch, validation_steps, max_queue_size, workers, use_multiprocessing, **kwargs)\u001b[0m\n\u001b[0;32m    774\u001b[0m         \u001b[0msteps\u001b[0m\u001b[1;33m=\u001b[0m\u001b[0msteps_per_epoch\u001b[0m\u001b[1;33m,\u001b[0m\u001b[1;33m\u001b[0m\u001b[1;33m\u001b[0m\u001b[0m\n\u001b[0;32m    775\u001b[0m         \u001b[0mvalidation_split\u001b[0m\u001b[1;33m=\u001b[0m\u001b[0mvalidation_split\u001b[0m\u001b[1;33m,\u001b[0m\u001b[1;33m\u001b[0m\u001b[1;33m\u001b[0m\u001b[0m\n\u001b[1;32m--> 776\u001b[1;33m         shuffle=shuffle)\n\u001b[0m\u001b[0;32m    777\u001b[0m \u001b[1;33m\u001b[0m\u001b[0m\n\u001b[0;32m    778\u001b[0m     \u001b[1;31m# Prepare validation data.\u001b[0m\u001b[1;33m\u001b[0m\u001b[1;33m\u001b[0m\u001b[1;33m\u001b[0m\u001b[0m\n",
      "\u001b[1;32mC:\\ProgramData\\Anaconda3\\lib\\site-packages\\tensorflow\\python\\keras\\engine\\training.py\u001b[0m in \u001b[0;36m_standardize_user_data\u001b[1;34m(self, x, y, sample_weight, class_weight, batch_size, check_steps, steps_name, steps, validation_split, shuffle)\u001b[0m\n\u001b[0;32m   2273\u001b[0m         \u001b[1;32mif\u001b[0m \u001b[1;32mnot\u001b[0m \u001b[0misinstance\u001b[0m\u001b[1;33m(\u001b[0m\u001b[0mx\u001b[0m\u001b[1;33m,\u001b[0m \u001b[0mnp\u001b[0m\u001b[1;33m.\u001b[0m\u001b[0mndarray\u001b[0m\u001b[1;33m)\u001b[0m \u001b[1;32mand\u001b[0m \u001b[1;32mnot\u001b[0m \u001b[0mtensor_util\u001b[0m\u001b[1;33m.\u001b[0m\u001b[0mis_tensor\u001b[0m\u001b[1;33m(\u001b[0m\u001b[0mx\u001b[0m\u001b[1;33m)\u001b[0m\u001b[1;33m:\u001b[0m\u001b[1;33m\u001b[0m\u001b[1;33m\u001b[0m\u001b[0m\n\u001b[0;32m   2274\u001b[0m           raise ValueError('Please provide as model inputs either a single '\n\u001b[1;32m-> 2275\u001b[1;33m                            'array or a list of arrays. You passed: x=' + str(x))\n\u001b[0m\u001b[0;32m   2276\u001b[0m         \u001b[0mall_inputs\u001b[0m\u001b[1;33m.\u001b[0m\u001b[0mappend\u001b[0m\u001b[1;33m(\u001b[0m\u001b[0mx\u001b[0m\u001b[1;33m)\u001b[0m\u001b[1;33m\u001b[0m\u001b[1;33m\u001b[0m\u001b[0m\n\u001b[0;32m   2277\u001b[0m \u001b[1;33m\u001b[0m\u001b[0m\n",
      "\u001b[1;31mValueError\u001b[0m: Please provide as model inputs either a single array or a list of arrays. You passed: x=       age  fnlwgt  capital_gain  capital_loss  hours_per_week  \\\n0       38  215646             0             0              40   \n1       53  234721             0             0              40   \n2       28  338409             0             0              40   \n3       37  284582             0             0              40   \n4       49  160187             0             0              16   \n5       52  209642             0             0              45   \n6       31   45781         14084             0              50   \n7       42  159449          5178             0              40   \n8       37  280464             0             0              80   \n9       30  141297             0             0              40   \n10      23  122272             0             0              30   \n11      32  205019             0             0              50   \n12      34  245487             0             0              45   \n13      25  176756             0             0              35   \n14      32  186824             0             0              40   \n15      38   28887             0             0              50   \n16      43  292175             0             0              45   \n17      40  193524             0             0              60   \n18      54  302146             0             0              20   \n19      35   76845             0             0              40   \n20      43  117037             0          2042              40   \n21      59  109015             0             0              40   \n22      56  216851             0             0              40   \n23      19  168294             0             0              40   \n24      39  367260             0             0              80   \n25      49  193366             0             0              40   \n26      23  190709             0             0              52   \n27      20  266015             0             0              44   \n28      45  386940             0          1408              40   \n29      30   59951             0             0              40   \n...    ...     ...           ...           ...             ...   \n30130   32  211349             0             0              40   \n30131   22  203715             0             0              40   \n30132   31  292592             0             0              40   \n30133   29  125976             0             0              35   \n30134   34  204461             0             0              60   \n30135   54  337992             0             0              50   \n30136   37  179137             0             0              39   \n30137   22  325033             0             0              35   \n30138   34  160216             0             0              55   \n30139   30  345898             0             0              46   \n30140   38  139180         15020             0              45   \n30141   45  252208             0             0              40   \n30142   45  119199             0             0              48   \n30143   31  199655             0             0              30   \n30144   39  111499             0             0              20   \n30145   37  198216             0             0              40   \n30146   43  260761             0             0              40   \n30147   65   99359          1086             0              60   \n30148   43  255835             0             0              40   \n30149   43   27242             0             0              50   \n30150   32   34066             0             0              40   \n30151   43   84661             0             0              45   \n30152   32  116138             0             0              11   \n30153   53  321865             0             0              40   \n30154   22  310152             0             0              40   \n30155   27  257302             0             0              38   \n30156   40  154374             0             0              40   \n30157   58  151910             0             0              40   \n30158   22  201490             0             0              20   \n30159   52  287927         15024             0              40   \n\n       workclass_ Federal-gov  workclass_ Local-gov  workclass_ Private  \\\n0                           0                     0                   1   \n1                           0                     0                   1   \n2                           0                     0                   1   \n3                           0                     0                   1   \n4                           0                     0                   1   \n5                           0                     0                   0   \n6                           0                     0                   1   \n7                           0                     0                   1   \n8                           0                     0                   1   \n9                           0                     0                   0   \n10                          0                     0                   1   \n11                          0                     0                   1   \n12                          0                     0                   1   \n13                          0                     0                   0   \n14                          0                     0                   1   \n15                          0                     0                   1   \n16                          0                     0                   0   \n17                          0                     0                   1   \n18                          0                     0                   1   \n19                          1                     0                   0   \n20                          0                     0                   1   \n21                          0                     0                   1   \n22                          0                     1                   0   \n23                          0                     0                   1   \n24                          0                     0                   1   \n25                          0                     0                   1   \n26                          0                     1                   0   \n27                          0                     0                   1   \n28                          0                     0                   1   \n29                          1                     0                   0   \n...                       ...                   ...                 ...   \n30130                       0                     0                   1   \n30131                       0                     0                   1   \n30132                       0                     0                   1   \n30133                       0                     0                   1   \n30134                       0                     0                   1   \n30135                       0                     0                   1   \n30136                       0                     0                   1   \n30137                       0                     0                   1   \n30138                       0                     0                   1   \n30139                       0                     0                   1   \n30140                       0                     0                   1   \n30141                       0                     0                   0   \n30142                       0                     1                   0   \n30143                       0                     0                   1   \n30144                       0                     1                   0   \n30145                       0                     0                   1   \n30146                       0                     0                   1   \n30147                       0                     0                   0   \n30148                       0                     0                   0   \n30149                       0                     0                   0   \n30150                       0                     0                   1   \n30151                       0                     0                   1   \n30152                       0                     0                   1   \n30153                       0                     0                   1   \n30154                       0                     0                   1   \n30155                       0                     0                   1   \n30156                       0                     0                   1   \n30157                       0                     0                   1   \n30158                       0                     0                   1   \n30159                       0                     0                   0   \n\n       workclass_ Self-emp-inc  workclass_ Self-emp-not-inc  \\\n0                            0                            0   \n1                            0                            0   \n2                            0                            0   \n3                            0                            0   \n4                            0                            0   \n5                            0                            1   \n6                            0                            0   \n7                            0                            0   \n8                            0                            0   \n9                            0                            0   \n10                           0                            0   \n11                           0                            0   \n12                           0                            0   \n13                           0                            1   \n14                           0                            0   \n15                           0                            0   \n16                           0                            1   \n17                           0                            0   \n18                           0                            0   \n19                           0                            0   \n20                           0                            0   \n21                           0                            0   \n22                           0                            0   \n23                           0                            0   \n24                           0                            0   \n25                           0                            0   \n26                           0                            0   \n27                           0                            0   \n28                           0                            0   \n29                           0                            0   \n...                        ...                          ...   \n30130                        0                            0   \n30131                        0                            0   \n30132                        0                            0   \n30133                        0                            0   \n30134                        0                            0   \n30135                        0                            0   \n30136                        0                            0   \n30137                        0                            0   \n30138                        0                            0   \n30139                        0                            0   \n30140                        0                            0   \n30141                        0                            0   \n30142                        0                            0   \n30143                        0                            0   \n30144                        0                            0   \n30145                        0                            0   \n30146                        0                            0   \n30147                        0                            1   \n30148                        0                            0   \n30149                        0                            1   \n30150                        0                            0   \n30151                        0                            0   \n30152                        0                            0   \n30153                        0                            0   \n30154                        0                            0   \n30155                        0                            0   \n30156                        0                            0   \n30157                        0                            0   \n30158                        0                            0   \n30159                        1                            0   \n\n               ...           ethnicity_ Amer-Indian-Eskimo  \\\n0              ...                                       0   \n1              ...                                       0   \n2              ...                                       0   \n3              ...                                       0   \n4              ...                                       0   \n5              ...                                       0   \n6              ...                                       0   \n7              ...                                       0   \n8              ...                                       0   \n9              ...                                       0   \n10             ...                                       0   \n11             ...                                       0   \n12             ...                                       1   \n13             ...                                       0   \n14             ...                                       0   \n15             ...                                       0   \n16             ...                                       0   \n17             ...                                       0   \n18             ...                                       0   \n19             ...                                       0   \n20             ...                                       0   \n21             ...                                       0   \n22             ...                                       0   \n23             ...                                       0   \n24             ...                                       0   \n25             ...                                       0   \n26             ...                                       0   \n27             ...                                       0   \n28             ...                                       0   \n29             ...                                       0   \n...            ...                                     ...   \n30130          ...                                       0   \n30131          ...                                       0   \n30132          ...                                       0   \n30133          ...                                       0   \n30134          ...                                       0   \n30135          ...                                       0   \n30136          ...                                       0   \n30137          ...                                       0   \n30138          ...                                       0   \n30139          ...                                       0   \n30140          ...                                       0   \n30141          ...                                       0   \n30142          ...                                       0   \n30143          ...                                       0   \n30144          ...                                       0   \n30145          ...                                       0   \n30146          ...                                       0   \n30147          ...                                       0   \n30148          ...                                       0   \n30149          ...                                       0   \n30150          ...                                       1   \n30151          ...                                       0   \n30152          ...                                       0   \n30153          ...                                       0   \n30154          ...                                       0   \n30155          ...                                       0   \n30156          ...                                       0   \n30157          ...                                       0   \n30158          ...                                       0   \n30159          ...                                       0   \n\n       ethnicity_ Asian-Pac-Islander  ethnicity_ Black  ethnicity_ Other  \\\n0                                  0                 0                 0   \n1                                  0                 1                 0   \n2                                  0                 1                 0   \n3                                  0                 0                 0   \n4                                  0                 1                 0   \n5                                  0                 0                 0   \n6                                  0                 0                 0   \n7                                  0                 0                 0   \n8                                  0                 1                 0   \n9                                  1                 0                 0   \n10                                 0                 0                 0   \n11                                 0                 1                 0   \n12                                 0                 0                 0   \n13                                 0                 0                 0   \n14                                 0                 0                 0   \n15                                 0                 0                 0   \n16                                 0                 0                 0   \n17                                 0                 0                 0   \n18                                 0                 1                 0   \n19                                 0                 1                 0   \n20                                 0                 0                 0   \n21                                 0                 0                 0   \n22                                 0                 0                 0   \n23                                 0                 0                 0   \n24                                 0                 0                 0   \n25                                 0                 0                 0   \n26                                 0                 0                 0   \n27                                 0                 1                 0   \n28                                 0                 0                 0   \n29                                 0                 0                 0   \n...                              ...               ...               ...   \n30130                              0                 0                 0   \n30131                              0                 0                 0   \n30132                              0                 0                 0   \n30133                              0                 0                 0   \n30134                              0                 0                 0   \n30135                              1                 0                 0   \n30136                              0                 0                 0   \n30137                              0                 1                 0   \n30138                              0                 0                 0   \n30139                              0                 1                 0   \n30140                              0                 1                 0   \n30141                              0                 0                 0   \n30142                              0                 0                 0   \n30143                              0                 0                 1   \n30144                              0                 0                 0   \n30145                              0                 0                 0   \n30146                              0                 0                 0   \n30147                              0                 0                 0   \n30148                              0                 0                 0   \n30149                              0                 0                 0   \n30150                              0                 0                 0   \n30151                              0                 0                 0   \n30152                              1                 0                 0   \n30153                              0                 0                 0   \n30154                              0                 0                 0   \n30155                              0                 0                 0   \n30156                              0                 0                 0   \n30157                              0                 0                 0   \n30158                              0                 0                 0   \n30159                              0                 0                 0   \n\n       ethnicity_ White  gender_ Female  gender_ Male  native_country_ Mexico  \\\n0                     1               0             1                       0   \n1                     0               0             1                       0   \n2                     0               1             0                       0   \n3                     1               1             0                       0   \n4                     0               1             0                       0   \n5                     1               0             1                       0   \n6                     1               1             0                       0   \n7                     1               0             1                       0   \n8                     0               0             1                       0   \n9                     0               0             1                       0   \n10                    1               1             0                       0   \n11                    0               0             1                       0   \n12                    0               0             1                       1   \n13                    1               0             1                       0   \n14                    1               0             1                       0   \n15                    1               0             1                       0   \n16                    1               1             0                       0   \n17                    1               0             1                       0   \n18                    0               1             0                       0   \n19                    0               0             1                       0   \n20                    1               0             1                       0   \n21                    1               1             0                       0   \n22                    1               0             1                       0   \n23                    1               0             1                       0   \n24                    1               0             1                       0   \n25                    1               0             1                       0   \n26                    1               0             1                       0   \n27                    0               0             1                       0   \n28                    1               0             1                       0   \n29                    1               0             1                       0   \n...                 ...             ...           ...                     ...   \n30130                 1               0             1                       0   \n30131                 1               0             1                       0   \n30132                 1               1             0                       0   \n30133                 1               1             0                       0   \n30134                 1               0             1                       0   \n30135                 0               0             1                       0   \n30136                 1               1             0                       0   \n30137                 0               0             1                       0   \n30138                 1               1             0                       0   \n30139                 0               0             1                       0   \n30140                 0               1             0                       0   \n30141                 1               1             0                       0   \n30142                 1               1             0                       0   \n30143                 0               1             0                       0   \n30144                 1               1             0                       0   \n30145                 1               1             0                       0   \n30146                 1               0             1                       1   \n30147                 1               0             1                       0   \n30148                 1               1             0                       0   \n30149                 1               0             1                       0   \n30150                 0               0             1                       0   \n30151                 1               0             1                       0   \n30152                 0               0             1                       0   \n30153                 1               0             1                       0   \n30154                 1               0             1                       0   \n30155                 1               1             0                       0   \n30156                 1               0             1                       0   \n30157                 1               1             0                       0   \n30158                 1               0             1                       0   \n30159                 1               1             0                       0   \n\n       native_country_ United-States  native_country_other  \n0                                  1                     0  \n1                                  1                     0  \n2                                  0                     1  \n3                                  1                     0  \n4                                  0                     1  \n5                                  1                     0  \n6                                  1                     0  \n7                                  1                     0  \n8                                  1                     0  \n9                                  0                     1  \n10                                 1                     0  \n11                                 1                     0  \n12                                 0                     0  \n13                                 1                     0  \n14                                 1                     0  \n15                                 1                     0  \n16                                 1                     0  \n17                                 1                     0  \n18                                 1                     0  \n19                                 1                     0  \n20                                 1                     0  \n21                                 1                     0  \n22                                 1                     0  \n23                                 1                     0  \n24                                 1                     0  \n25                                 1                     0  \n26                                 1                     0  \n27                                 1                     0  \n28                                 1                     0  \n29                                 1                     0  \n...                              ...                   ...  \n30130                              1                     0  \n30131                              1                     0  \n30132                              1                     0  \n30133                              1                     0  \n30134                              1                     0  \n30135                              0                     1  \n30136                              1                     0  \n30137                              1                     0  \n30138                              1                     0  \n30139                              1                     0  \n30140                              1                     0  \n30141                              1                     0  \n30142                              1                     0  \n30143                              1                     0  \n30144                              1                     0  \n30145                              1                     0  \n30146                              0                     0  \n30147                              1                     0  \n30148                              1                     0  \n30149                              1                     0  \n30150                              1                     0  \n30151                              1                     0  \n30152                              0                     1  \n30153                              1                     0  \n30154                              1                     0  \n30155                              1                     0  \n30156                              1                     0  \n30157                              1                     0  \n30158                              1                     0  \n30159                              1                     0  \n\n[30160 rows x 57 columns]"
     ]
    }
   ],
   "source": [
    "x_train = train_dataset.copy(deep=True)\n",
    "x_val = test_dataset.copy(deep=True)\n",
    "y_train = x_train.pop('income')\n",
    "y_val = x_val.pop('income')\n",
    "temp = x_val.values\n",
    "temp[0:20,0:10] \n",
    "#val_data = tf.data.Dataset.from_tensor_slices((x_test.values, y_test.values))\n",
    "\n",
    "model = get_compiled_model()\n",
    "\n",
    "model.fit(x_train, y_train,epochs = 20, \n",
    "          steps_per_epoch=20)"
   ]
  },
  {
   "cell_type": "code",
   "execution_count": 18,
   "metadata": {},
   "outputs": [
    {
     "ename": "CancelledError",
     "evalue": " [Op:StatefulPartitionedCall]",
     "output_type": "error",
     "traceback": [
      "\u001b[1;31m---------------------------------------------------------------------------\u001b[0m",
      "\u001b[1;31mCancelledError\u001b[0m                            Traceback (most recent call last)",
      "\u001b[1;32m<ipython-input-18-6a189bdca398>\u001b[0m in \u001b[0;36m<module>\u001b[1;34m\u001b[0m\n\u001b[1;32m----> 1\u001b[1;33m \u001b[0my_pred\u001b[0m\u001b[1;33m=\u001b[0m\u001b[0mmodel\u001b[0m\u001b[1;33m.\u001b[0m\u001b[0mpredict\u001b[0m\u001b[1;33m(\u001b[0m\u001b[0mfinal_train\u001b[0m\u001b[1;33m,\u001b[0m \u001b[0msteps\u001b[0m\u001b[1;33m=\u001b[0m\u001b[1;36m100\u001b[0m\u001b[1;33m)\u001b[0m\u001b[1;33m\u001b[0m\u001b[1;33m\u001b[0m\u001b[0m\n\u001b[0m\u001b[0;32m      2\u001b[0m \u001b[0my_pred\u001b[0m \u001b[1;33m=\u001b[0m\u001b[1;33m(\u001b[0m\u001b[0my_pred\u001b[0m\u001b[1;33m>\u001b[0m\u001b[1;36m0.5\u001b[0m\u001b[1;33m)\u001b[0m\u001b[1;33m\u001b[0m\u001b[1;33m\u001b[0m\u001b[0m\n",
      "\u001b[1;32mC:\\ProgramData\\Anaconda3\\lib\\site-packages\\tensorflow\\python\\keras\\engine\\training.py\u001b[0m in \u001b[0;36mpredict\u001b[1;34m(self, x, batch_size, verbose, steps, max_queue_size, workers, use_multiprocessing)\u001b[0m\n\u001b[0;32m   1104\u001b[0m           \u001b[0mbatch_size\u001b[0m\u001b[1;33m=\u001b[0m\u001b[0mbatch_size\u001b[0m\u001b[1;33m,\u001b[0m\u001b[1;33m\u001b[0m\u001b[1;33m\u001b[0m\u001b[0m\n\u001b[0;32m   1105\u001b[0m           \u001b[0mverbose\u001b[0m\u001b[1;33m=\u001b[0m\u001b[0mverbose\u001b[0m\u001b[1;33m,\u001b[0m\u001b[1;33m\u001b[0m\u001b[1;33m\u001b[0m\u001b[0m\n\u001b[1;32m-> 1106\u001b[1;33m           workers=0)\n\u001b[0m\u001b[0;32m   1107\u001b[0m     elif distributed_training_utils.is_tpu_strategy(\n\u001b[0;32m   1108\u001b[0m         self._distribution_strategy):\n",
      "\u001b[1;32mC:\\ProgramData\\Anaconda3\\lib\\site-packages\\tensorflow\\python\\keras\\engine\\training_generator.py\u001b[0m in \u001b[0;36mmodel_iteration\u001b[1;34m(model, data, steps_per_epoch, epochs, verbose, callbacks, validation_data, validation_steps, class_weight, max_queue_size, workers, use_multiprocessing, shuffle, initial_epoch, mode, batch_size, **kwargs)\u001b[0m\n\u001b[0;32m    189\u001b[0m       \u001b[0mprogbar\u001b[0m\u001b[1;33m.\u001b[0m\u001b[0mon_batch_begin\u001b[0m\u001b[1;33m(\u001b[0m\u001b[0mstep\u001b[0m\u001b[1;33m,\u001b[0m \u001b[0mbatch_logs\u001b[0m\u001b[1;33m)\u001b[0m\u001b[1;33m\u001b[0m\u001b[1;33m\u001b[0m\u001b[0m\n\u001b[0;32m    190\u001b[0m \u001b[1;33m\u001b[0m\u001b[0m\n\u001b[1;32m--> 191\u001b[1;33m       \u001b[0mbatch_outs\u001b[0m \u001b[1;33m=\u001b[0m \u001b[0mbatch_function\u001b[0m\u001b[1;33m(\u001b[0m\u001b[1;33m*\u001b[0m\u001b[0mbatch_data\u001b[0m\u001b[1;33m)\u001b[0m\u001b[1;33m\u001b[0m\u001b[1;33m\u001b[0m\u001b[0m\n\u001b[0m\u001b[0;32m    192\u001b[0m       \u001b[1;32mif\u001b[0m \u001b[1;32mnot\u001b[0m \u001b[0misinstance\u001b[0m\u001b[1;33m(\u001b[0m\u001b[0mbatch_outs\u001b[0m\u001b[1;33m,\u001b[0m \u001b[0mlist\u001b[0m\u001b[1;33m)\u001b[0m\u001b[1;33m:\u001b[0m\u001b[1;33m\u001b[0m\u001b[1;33m\u001b[0m\u001b[0m\n\u001b[0;32m    193\u001b[0m         \u001b[0mbatch_outs\u001b[0m \u001b[1;33m=\u001b[0m \u001b[1;33m[\u001b[0m\u001b[0mbatch_outs\u001b[0m\u001b[1;33m]\u001b[0m\u001b[1;33m\u001b[0m\u001b[1;33m\u001b[0m\u001b[0m\n",
      "\u001b[1;32mC:\\ProgramData\\Anaconda3\\lib\\site-packages\\tensorflow\\python\\keras\\engine\\training_generator.py\u001b[0m in \u001b[0;36mpredict_on_batch\u001b[1;34m(x, y, sample_weights)\u001b[0m\n\u001b[0;32m    435\u001b[0m     \u001b[1;31m# 1, 2, or 3-tuples from generator\u001b[0m\u001b[1;33m\u001b[0m\u001b[1;33m\u001b[0m\u001b[1;33m\u001b[0m\u001b[0m\n\u001b[0;32m    436\u001b[0m     \u001b[1;32mdef\u001b[0m \u001b[0mpredict_on_batch\u001b[0m\u001b[1;33m(\u001b[0m\u001b[0mx\u001b[0m\u001b[1;33m,\u001b[0m \u001b[0my\u001b[0m\u001b[1;33m=\u001b[0m\u001b[1;32mNone\u001b[0m\u001b[1;33m,\u001b[0m \u001b[0msample_weights\u001b[0m\u001b[1;33m=\u001b[0m\u001b[1;32mNone\u001b[0m\u001b[1;33m)\u001b[0m\u001b[1;33m:\u001b[0m  \u001b[1;31m# pylint: disable=unused-argument\u001b[0m\u001b[1;33m\u001b[0m\u001b[1;33m\u001b[0m\u001b[0m\n\u001b[1;32m--> 437\u001b[1;33m       \u001b[1;32mreturn\u001b[0m \u001b[0mmodel\u001b[0m\u001b[1;33m.\u001b[0m\u001b[0mpredict_on_batch\u001b[0m\u001b[1;33m(\u001b[0m\u001b[0mx\u001b[0m\u001b[1;33m)\u001b[0m\u001b[1;33m\u001b[0m\u001b[1;33m\u001b[0m\u001b[0m\n\u001b[0m\u001b[0;32m    438\u001b[0m \u001b[1;33m\u001b[0m\u001b[0m\n\u001b[0;32m    439\u001b[0m     \u001b[0mf\u001b[0m \u001b[1;33m=\u001b[0m \u001b[0mpredict_on_batch\u001b[0m\u001b[1;33m\u001b[0m\u001b[1;33m\u001b[0m\u001b[0m\n",
      "\u001b[1;32mC:\\ProgramData\\Anaconda3\\lib\\site-packages\\tensorflow\\python\\keras\\engine\\training.py\u001b[0m in \u001b[0;36mpredict_on_batch\u001b[1;34m(self, x)\u001b[0m\n\u001b[0;32m   1296\u001b[0m \u001b[1;33m\u001b[0m\u001b[0m\n\u001b[0;32m   1297\u001b[0m     \u001b[0mself\u001b[0m\u001b[1;33m.\u001b[0m\u001b[0m_make_predict_function\u001b[0m\u001b[1;33m(\u001b[0m\u001b[1;33m)\u001b[0m\u001b[1;33m\u001b[0m\u001b[1;33m\u001b[0m\u001b[0m\n\u001b[1;32m-> 1298\u001b[1;33m     \u001b[0moutputs\u001b[0m \u001b[1;33m=\u001b[0m \u001b[0mself\u001b[0m\u001b[1;33m.\u001b[0m\u001b[0mpredict_function\u001b[0m\u001b[1;33m(\u001b[0m\u001b[0minputs\u001b[0m\u001b[1;33m)\u001b[0m\u001b[1;33m\u001b[0m\u001b[1;33m\u001b[0m\u001b[0m\n\u001b[0m\u001b[0;32m   1299\u001b[0m \u001b[1;33m\u001b[0m\u001b[0m\n\u001b[0;32m   1300\u001b[0m     \u001b[1;32mif\u001b[0m \u001b[0mlen\u001b[0m\u001b[1;33m(\u001b[0m\u001b[0moutputs\u001b[0m\u001b[1;33m)\u001b[0m \u001b[1;33m==\u001b[0m \u001b[1;36m1\u001b[0m\u001b[1;33m:\u001b[0m\u001b[1;33m\u001b[0m\u001b[1;33m\u001b[0m\u001b[0m\n",
      "\u001b[1;32mC:\\ProgramData\\Anaconda3\\lib\\site-packages\\tensorflow\\python\\keras\\backend.py\u001b[0m in \u001b[0;36m__call__\u001b[1;34m(self, inputs)\u001b[0m\n\u001b[0;32m   3164\u001b[0m         \u001b[0mvalue\u001b[0m \u001b[1;33m=\u001b[0m \u001b[0mmath_ops\u001b[0m\u001b[1;33m.\u001b[0m\u001b[0mcast\u001b[0m\u001b[1;33m(\u001b[0m\u001b[0mvalue\u001b[0m\u001b[1;33m,\u001b[0m \u001b[0mtensor\u001b[0m\u001b[1;33m.\u001b[0m\u001b[0mdtype\u001b[0m\u001b[1;33m)\u001b[0m\u001b[1;33m\u001b[0m\u001b[1;33m\u001b[0m\u001b[0m\n\u001b[0;32m   3165\u001b[0m       \u001b[0mconverted_inputs\u001b[0m\u001b[1;33m.\u001b[0m\u001b[0mappend\u001b[0m\u001b[1;33m(\u001b[0m\u001b[0mvalue\u001b[0m\u001b[1;33m)\u001b[0m\u001b[1;33m\u001b[0m\u001b[1;33m\u001b[0m\u001b[0m\n\u001b[1;32m-> 3166\u001b[1;33m     \u001b[0moutputs\u001b[0m \u001b[1;33m=\u001b[0m \u001b[0mself\u001b[0m\u001b[1;33m.\u001b[0m\u001b[0m_graph_fn\u001b[0m\u001b[1;33m(\u001b[0m\u001b[1;33m*\u001b[0m\u001b[0mconverted_inputs\u001b[0m\u001b[1;33m)\u001b[0m\u001b[1;33m\u001b[0m\u001b[1;33m\u001b[0m\u001b[0m\n\u001b[0m\u001b[0;32m   3167\u001b[0m     return nest.pack_sequence_as(self._outputs_structure,\n\u001b[0;32m   3168\u001b[0m                                  [x.numpy() for x in outputs])\n",
      "\u001b[1;32mC:\\ProgramData\\Anaconda3\\lib\\site-packages\\tensorflow\\python\\eager\\function.py\u001b[0m in \u001b[0;36m__call__\u001b[1;34m(self, *args, **kwargs)\u001b[0m\n\u001b[0;32m    366\u001b[0m           \u001b[1;32mraise\u001b[0m \u001b[0mTypeError\u001b[0m\u001b[1;33m(\u001b[0m\u001b[1;34m\"Got two values for keyword '{}'.\"\u001b[0m\u001b[1;33m.\u001b[0m\u001b[0mformat\u001b[0m\u001b[1;33m(\u001b[0m\u001b[0munused_key\u001b[0m\u001b[1;33m)\u001b[0m\u001b[1;33m)\u001b[0m\u001b[1;33m\u001b[0m\u001b[1;33m\u001b[0m\u001b[0m\n\u001b[0;32m    367\u001b[0m       \u001b[1;32mraise\u001b[0m \u001b[0mTypeError\u001b[0m\u001b[1;33m(\u001b[0m\u001b[1;34m\"Keyword arguments {} unknown.\"\u001b[0m\u001b[1;33m.\u001b[0m\u001b[0mformat\u001b[0m\u001b[1;33m(\u001b[0m\u001b[0mkwargs\u001b[0m\u001b[1;33m.\u001b[0m\u001b[0mkeys\u001b[0m\u001b[1;33m(\u001b[0m\u001b[1;33m)\u001b[0m\u001b[1;33m)\u001b[0m\u001b[1;33m)\u001b[0m\u001b[1;33m\u001b[0m\u001b[1;33m\u001b[0m\u001b[0m\n\u001b[1;32m--> 368\u001b[1;33m     \u001b[1;32mreturn\u001b[0m \u001b[0mself\u001b[0m\u001b[1;33m.\u001b[0m\u001b[0m_call_flat\u001b[0m\u001b[1;33m(\u001b[0m\u001b[0margs\u001b[0m\u001b[1;33m)\u001b[0m\u001b[1;33m\u001b[0m\u001b[1;33m\u001b[0m\u001b[0m\n\u001b[0m\u001b[0;32m    369\u001b[0m \u001b[1;33m\u001b[0m\u001b[0m\n\u001b[0;32m    370\u001b[0m   \u001b[1;32mdef\u001b[0m \u001b[0m_filtered_call\u001b[0m\u001b[1;33m(\u001b[0m\u001b[0mself\u001b[0m\u001b[1;33m,\u001b[0m \u001b[0margs\u001b[0m\u001b[1;33m,\u001b[0m \u001b[0mkwargs\u001b[0m\u001b[1;33m)\u001b[0m\u001b[1;33m:\u001b[0m\u001b[1;33m\u001b[0m\u001b[1;33m\u001b[0m\u001b[0m\n",
      "\u001b[1;32mC:\\ProgramData\\Anaconda3\\lib\\site-packages\\tensorflow\\python\\eager\\function.py\u001b[0m in \u001b[0;36m_call_flat\u001b[1;34m(self, args)\u001b[0m\n\u001b[0;32m    431\u001b[0m     \u001b[1;31m# Only need to override the gradient in graph mode and when we have outputs.\u001b[0m\u001b[1;33m\u001b[0m\u001b[1;33m\u001b[0m\u001b[1;33m\u001b[0m\u001b[0m\n\u001b[0;32m    432\u001b[0m     \u001b[1;32mif\u001b[0m \u001b[0mcontext\u001b[0m\u001b[1;33m.\u001b[0m\u001b[0mexecuting_eagerly\u001b[0m\u001b[1;33m(\u001b[0m\u001b[1;33m)\u001b[0m \u001b[1;32mor\u001b[0m \u001b[1;32mnot\u001b[0m \u001b[0mself\u001b[0m\u001b[1;33m.\u001b[0m\u001b[0moutputs\u001b[0m\u001b[1;33m:\u001b[0m\u001b[1;33m\u001b[0m\u001b[1;33m\u001b[0m\u001b[0m\n\u001b[1;32m--> 433\u001b[1;33m       \u001b[0moutputs\u001b[0m \u001b[1;33m=\u001b[0m \u001b[0mself\u001b[0m\u001b[1;33m.\u001b[0m\u001b[0m_inference_function\u001b[0m\u001b[1;33m.\u001b[0m\u001b[0mcall\u001b[0m\u001b[1;33m(\u001b[0m\u001b[0mctx\u001b[0m\u001b[1;33m,\u001b[0m \u001b[0margs\u001b[0m\u001b[1;33m)\u001b[0m\u001b[1;33m\u001b[0m\u001b[1;33m\u001b[0m\u001b[0m\n\u001b[0m\u001b[0;32m    434\u001b[0m     \u001b[1;32melse\u001b[0m\u001b[1;33m:\u001b[0m\u001b[1;33m\u001b[0m\u001b[1;33m\u001b[0m\u001b[0m\n\u001b[0;32m    435\u001b[0m       \u001b[1;32mif\u001b[0m \u001b[1;32mnot\u001b[0m \u001b[0mself\u001b[0m\u001b[1;33m.\u001b[0m\u001b[0m_gradient_name\u001b[0m\u001b[1;33m:\u001b[0m\u001b[1;33m\u001b[0m\u001b[1;33m\u001b[0m\u001b[0m\n",
      "\u001b[1;32mC:\\ProgramData\\Anaconda3\\lib\\site-packages\\tensorflow\\python\\eager\\function.py\u001b[0m in \u001b[0;36mcall\u001b[1;34m(self, ctx, args)\u001b[0m\n\u001b[0;32m    267\u001b[0m           \u001b[0mexecuting_eagerly\u001b[0m\u001b[1;33m=\u001b[0m\u001b[0mexecuting_eagerly\u001b[0m\u001b[1;33m,\u001b[0m\u001b[1;33m\u001b[0m\u001b[1;33m\u001b[0m\u001b[0m\n\u001b[0;32m    268\u001b[0m           \u001b[0mconfig\u001b[0m\u001b[1;33m=\u001b[0m\u001b[0mfunction_call_options\u001b[0m\u001b[1;33m.\u001b[0m\u001b[0mconfig_proto_serialized\u001b[0m\u001b[1;33m,\u001b[0m\u001b[1;33m\u001b[0m\u001b[1;33m\u001b[0m\u001b[0m\n\u001b[1;32m--> 269\u001b[1;33m           executor_type=function_call_options.executor_type)\n\u001b[0m\u001b[0;32m    270\u001b[0m \u001b[1;33m\u001b[0m\u001b[0m\n\u001b[0;32m    271\u001b[0m     \u001b[1;32mif\u001b[0m \u001b[0mexecuting_eagerly\u001b[0m\u001b[1;33m:\u001b[0m\u001b[1;33m\u001b[0m\u001b[1;33m\u001b[0m\u001b[0m\n",
      "\u001b[1;32mC:\\ProgramData\\Anaconda3\\lib\\site-packages\\tensorflow\\python\\ops\\functional_ops.py\u001b[0m in \u001b[0;36mpartitioned_call\u001b[1;34m(args, f, tout, executing_eagerly, config, executor_type)\u001b[0m\n\u001b[0;32m   1081\u001b[0m       outputs = gen_functional_ops.stateful_partitioned_call(\n\u001b[0;32m   1082\u001b[0m           \u001b[0margs\u001b[0m\u001b[1;33m=\u001b[0m\u001b[0margs\u001b[0m\u001b[1;33m,\u001b[0m \u001b[0mTout\u001b[0m\u001b[1;33m=\u001b[0m\u001b[0mtout\u001b[0m\u001b[1;33m,\u001b[0m \u001b[0mf\u001b[0m\u001b[1;33m=\u001b[0m\u001b[0mf\u001b[0m\u001b[1;33m,\u001b[0m \u001b[0mconfig_proto\u001b[0m\u001b[1;33m=\u001b[0m\u001b[0mconfig\u001b[0m\u001b[1;33m,\u001b[0m\u001b[1;33m\u001b[0m\u001b[1;33m\u001b[0m\u001b[0m\n\u001b[1;32m-> 1083\u001b[1;33m           executor_type=executor_type)\n\u001b[0m\u001b[0;32m   1084\u001b[0m     \u001b[1;32melse\u001b[0m\u001b[1;33m:\u001b[0m\u001b[1;33m\u001b[0m\u001b[1;33m\u001b[0m\u001b[0m\n\u001b[0;32m   1085\u001b[0m       outputs = gen_functional_ops.partitioned_call(\n",
      "\u001b[1;32mC:\\ProgramData\\Anaconda3\\lib\\site-packages\\tensorflow\\python\\ops\\gen_functional_ops.py\u001b[0m in \u001b[0;36mstateful_partitioned_call\u001b[1;34m(args, Tout, f, config, config_proto, executor_type, name)\u001b[0m\n\u001b[0;32m    494\u001b[0m       \u001b[1;32melse\u001b[0m\u001b[1;33m:\u001b[0m\u001b[1;33m\u001b[0m\u001b[1;33m\u001b[0m\u001b[0m\n\u001b[0;32m    495\u001b[0m         \u001b[0mmessage\u001b[0m \u001b[1;33m=\u001b[0m \u001b[0me\u001b[0m\u001b[1;33m.\u001b[0m\u001b[0mmessage\u001b[0m\u001b[1;33m\u001b[0m\u001b[1;33m\u001b[0m\u001b[0m\n\u001b[1;32m--> 496\u001b[1;33m       \u001b[0m_six\u001b[0m\u001b[1;33m.\u001b[0m\u001b[0mraise_from\u001b[0m\u001b[1;33m(\u001b[0m\u001b[0m_core\u001b[0m\u001b[1;33m.\u001b[0m\u001b[0m_status_to_exception\u001b[0m\u001b[1;33m(\u001b[0m\u001b[0me\u001b[0m\u001b[1;33m.\u001b[0m\u001b[0mcode\u001b[0m\u001b[1;33m,\u001b[0m \u001b[0mmessage\u001b[0m\u001b[1;33m)\u001b[0m\u001b[1;33m,\u001b[0m \u001b[1;32mNone\u001b[0m\u001b[1;33m)\u001b[0m\u001b[1;33m\u001b[0m\u001b[1;33m\u001b[0m\u001b[0m\n\u001b[0m\u001b[0;32m    497\u001b[0m   \u001b[1;31m# Add nodes to the TensorFlow graph.\u001b[0m\u001b[1;33m\u001b[0m\u001b[1;33m\u001b[0m\u001b[1;33m\u001b[0m\u001b[0m\n\u001b[0;32m    498\u001b[0m   \u001b[1;32mif\u001b[0m \u001b[1;32mnot\u001b[0m \u001b[0misinstance\u001b[0m\u001b[1;33m(\u001b[0m\u001b[0mTout\u001b[0m\u001b[1;33m,\u001b[0m \u001b[1;33m(\u001b[0m\u001b[0mlist\u001b[0m\u001b[1;33m,\u001b[0m \u001b[0mtuple\u001b[0m\u001b[1;33m)\u001b[0m\u001b[1;33m)\u001b[0m\u001b[1;33m:\u001b[0m\u001b[1;33m\u001b[0m\u001b[1;33m\u001b[0m\u001b[0m\n",
      "\u001b[1;32mC:\\ProgramData\\Anaconda3\\lib\\site-packages\\six.py\u001b[0m in \u001b[0;36mraise_from\u001b[1;34m(value, from_value)\u001b[0m\n",
      "\u001b[1;31mCancelledError\u001b[0m:  [Op:StatefulPartitionedCall]"
     ]
    }
   ],
   "source": [
    "y_pred=model.predict(final_train)\n",
    "y_pred =(y_pred>0.5)"
   ]
  },
  {
   "cell_type": "markdown",
   "metadata": {},
   "source": [
    "## Data cross validation"
   ]
  },
  {
   "cell_type": "code",
   "execution_count": null,
   "metadata": {},
   "outputs": [],
   "source": [
    "model.predict()"
   ]
  },
  {
   "cell_type": "code",
   "execution_count": 28,
   "metadata": {},
   "outputs": [
    {
     "name": "stdout",
     "output_type": "stream",
     "text": [
      "hola\n"
     ]
    }
   ],
   "source": [
    "print(\"hola\")"
   ]
  },
  {
   "cell_type": "code",
   "execution_count": 25,
   "metadata": {},
   "outputs": [
    {
     "name": "stdout",
     "output_type": "stream",
     "text": [
      "Epoch 1/20\n"
     ]
    },
    {
     "ename": "RuntimeError",
     "evalue": "You must compile a model before training/testing. Use `model.compile(optimizer, loss)`.",
     "output_type": "error",
     "traceback": [
      "\u001b[1;31m---------------------------------------------------------------------------\u001b[0m",
      "\u001b[1;31mRuntimeError\u001b[0m                              Traceback (most recent call last)",
      "\u001b[1;32m<ipython-input-25-4949d14cc9c5>\u001b[0m in \u001b[0;36m<module>\u001b[1;34m\u001b[0m\n\u001b[0;32m      4\u001b[0m   \u001b[0mtf\u001b[0m\u001b[1;33m.\u001b[0m\u001b[0mkeras\u001b[0m\u001b[1;33m.\u001b[0m\u001b[0mlayers\u001b[0m\u001b[1;33m.\u001b[0m\u001b[0mDense\u001b[0m\u001b[1;33m(\u001b[0m\u001b[1;36m3\u001b[0m\u001b[1;33m)\u001b[0m\u001b[1;33m\u001b[0m\u001b[1;33m\u001b[0m\u001b[0m\n\u001b[0;32m      5\u001b[0m ])\n\u001b[1;32m----> 6\u001b[1;33m \u001b[0mmodel\u001b[0m\u001b[1;33m.\u001b[0m\u001b[0mfit\u001b[0m\u001b[1;33m(\u001b[0m\u001b[0mfinal_train\u001b[0m\u001b[1;33m,\u001b[0m \u001b[0mepochs\u001b[0m \u001b[1;33m=\u001b[0m \u001b[1;36m20\u001b[0m\u001b[1;33m,\u001b[0m \u001b[0msteps_per_epoch\u001b[0m\u001b[1;33m=\u001b[0m\u001b[1;36m472\u001b[0m\u001b[1;33m)\u001b[0m\u001b[1;33m\u001b[0m\u001b[1;33m\u001b[0m\u001b[0m\n\u001b[0m",
      "\u001b[1;32mC:\\ProgramData\\Anaconda3\\lib\\site-packages\\tensorflow\\python\\keras\\engine\\training.py\u001b[0m in \u001b[0;36mfit\u001b[1;34m(self, x, y, batch_size, epochs, verbose, callbacks, validation_split, validation_data, shuffle, class_weight, sample_weight, initial_epoch, steps_per_epoch, validation_steps, max_queue_size, workers, use_multiprocessing, **kwargs)\u001b[0m\n\u001b[0;32m    849\u001b[0m           \u001b[0mvalidation_steps\u001b[0m\u001b[1;33m=\u001b[0m\u001b[0mvalidation_steps\u001b[0m\u001b[1;33m,\u001b[0m\u001b[1;33m\u001b[0m\u001b[1;33m\u001b[0m\u001b[0m\n\u001b[0;32m    850\u001b[0m           \u001b[0mworkers\u001b[0m\u001b[1;33m=\u001b[0m\u001b[1;36m0\u001b[0m\u001b[1;33m,\u001b[0m\u001b[1;33m\u001b[0m\u001b[1;33m\u001b[0m\u001b[0m\n\u001b[1;32m--> 851\u001b[1;33m           initial_epoch=initial_epoch)\n\u001b[0m\u001b[0;32m    852\u001b[0m     elif distributed_training_utils.is_tpu_strategy(\n\u001b[0;32m    853\u001b[0m         self._distribution_strategy):\n",
      "\u001b[1;32mC:\\ProgramData\\Anaconda3\\lib\\site-packages\\tensorflow\\python\\keras\\engine\\training_generator.py\u001b[0m in \u001b[0;36mmodel_iteration\u001b[1;34m(model, data, steps_per_epoch, epochs, verbose, callbacks, validation_data, validation_steps, class_weight, max_queue_size, workers, use_multiprocessing, shuffle, initial_epoch, mode, batch_size, **kwargs)\u001b[0m\n\u001b[0;32m    189\u001b[0m       \u001b[0mprogbar\u001b[0m\u001b[1;33m.\u001b[0m\u001b[0mon_batch_begin\u001b[0m\u001b[1;33m(\u001b[0m\u001b[0mstep\u001b[0m\u001b[1;33m,\u001b[0m \u001b[0mbatch_logs\u001b[0m\u001b[1;33m)\u001b[0m\u001b[1;33m\u001b[0m\u001b[1;33m\u001b[0m\u001b[0m\n\u001b[0;32m    190\u001b[0m \u001b[1;33m\u001b[0m\u001b[0m\n\u001b[1;32m--> 191\u001b[1;33m       \u001b[0mbatch_outs\u001b[0m \u001b[1;33m=\u001b[0m \u001b[0mbatch_function\u001b[0m\u001b[1;33m(\u001b[0m\u001b[1;33m*\u001b[0m\u001b[0mbatch_data\u001b[0m\u001b[1;33m)\u001b[0m\u001b[1;33m\u001b[0m\u001b[1;33m\u001b[0m\u001b[0m\n\u001b[0m\u001b[0;32m    192\u001b[0m       \u001b[1;32mif\u001b[0m \u001b[1;32mnot\u001b[0m \u001b[0misinstance\u001b[0m\u001b[1;33m(\u001b[0m\u001b[0mbatch_outs\u001b[0m\u001b[1;33m,\u001b[0m \u001b[0mlist\u001b[0m\u001b[1;33m)\u001b[0m\u001b[1;33m:\u001b[0m\u001b[1;33m\u001b[0m\u001b[1;33m\u001b[0m\u001b[0m\n\u001b[0;32m    193\u001b[0m         \u001b[0mbatch_outs\u001b[0m \u001b[1;33m=\u001b[0m \u001b[1;33m[\u001b[0m\u001b[0mbatch_outs\u001b[0m\u001b[1;33m]\u001b[0m\u001b[1;33m\u001b[0m\u001b[1;33m\u001b[0m\u001b[0m\n",
      "\u001b[1;32mC:\\ProgramData\\Anaconda3\\lib\\site-packages\\tensorflow\\python\\keras\\engine\\training.py\u001b[0m in \u001b[0;36mtrain_on_batch\u001b[1;34m(self, x, y, sample_weight, class_weight, reset_metrics)\u001b[0m\n\u001b[0;32m   1173\u001b[0m     \u001b[1;31m# Validate and standardize user data.\u001b[0m\u001b[1;33m\u001b[0m\u001b[1;33m\u001b[0m\u001b[1;33m\u001b[0m\u001b[0m\n\u001b[0;32m   1174\u001b[0m     x, y, sample_weights = self._standardize_user_data(\n\u001b[1;32m-> 1175\u001b[1;33m         x, y, sample_weight=sample_weight, class_weight=class_weight)\n\u001b[0m\u001b[0;32m   1176\u001b[0m \u001b[1;33m\u001b[0m\u001b[0m\n\u001b[0;32m   1177\u001b[0m     \u001b[1;32mif\u001b[0m \u001b[0mself\u001b[0m\u001b[1;33m.\u001b[0m\u001b[0mrun_eagerly\u001b[0m\u001b[1;33m:\u001b[0m\u001b[1;33m\u001b[0m\u001b[1;33m\u001b[0m\u001b[0m\n",
      "\u001b[1;32mC:\\ProgramData\\Anaconda3\\lib\\site-packages\\tensorflow\\python\\keras\\engine\\training.py\u001b[0m in \u001b[0;36m_standardize_user_data\u001b[1;34m(self, x, y, sample_weight, class_weight, batch_size, check_steps, steps_name, steps, validation_split, shuffle)\u001b[0m\n\u001b[0;32m   2297\u001b[0m     \u001b[1;32mif\u001b[0m \u001b[0my\u001b[0m \u001b[1;32mis\u001b[0m \u001b[1;32mnot\u001b[0m \u001b[1;32mNone\u001b[0m\u001b[1;33m:\u001b[0m\u001b[1;33m\u001b[0m\u001b[1;33m\u001b[0m\u001b[0m\n\u001b[0;32m   2298\u001b[0m       \u001b[1;32mif\u001b[0m \u001b[1;32mnot\u001b[0m \u001b[0mself\u001b[0m\u001b[1;33m.\u001b[0m\u001b[0moptimizer\u001b[0m\u001b[1;33m:\u001b[0m\u001b[1;33m\u001b[0m\u001b[1;33m\u001b[0m\u001b[0m\n\u001b[1;32m-> 2299\u001b[1;33m         raise RuntimeError('You must compile a model before '\n\u001b[0m\u001b[0;32m   2300\u001b[0m                            \u001b[1;34m'training/testing. '\u001b[0m\u001b[1;33m\u001b[0m\u001b[1;33m\u001b[0m\u001b[0m\n\u001b[0;32m   2301\u001b[0m                            'Use `model.compile(optimizer, loss)`.')\n",
      "\u001b[1;31mRuntimeError\u001b[0m: You must compile a model before training/testing. Use `model.compile(optimizer, loss)`."
     ]
    }
   ],
   "source": [
    "model = tf.keras.Sequential([\n",
    "  tf.keras.layers.Dense(10, activation=tf.nn.relu, input_shape=(4,)),  # input shape required\n",
    "  tf.keras.layers.Dense(10, activation=tf.nn.relu),\n",
    "  tf.keras.layers.Dense(3)\n",
    "])\n",
    "model.fit(final_train, epochs = 20, steps_per_epoch=472)"
   ]
  },
  {
   "cell_type": "markdown",
   "metadata": {},
   "source": [
    "## Entrenando el modelo"
   ]
  },
  {
   "cell_type": "code",
   "execution_count": 20,
   "metadata": {},
   "outputs": [
    {
     "ename": "NameError",
     "evalue": "name 'model' is not defined",
     "output_type": "error",
     "traceback": [
      "\u001b[1;31m---------------------------------------------------------------------------\u001b[0m",
      "\u001b[1;31mNameError\u001b[0m                                 Traceback (most recent call last)",
      "\u001b[1;32m<ipython-input-20-65188d136b45>\u001b[0m in \u001b[0;36m<module>\u001b[1;34m\u001b[0m\n\u001b[0;32m      4\u001b[0m \u001b[1;33m\u001b[0m\u001b[0m\n\u001b[0;32m      5\u001b[0m \u001b[1;33m\u001b[0m\u001b[0m\n\u001b[1;32m----> 6\u001b[1;33m \u001b[0ml\u001b[0m \u001b[1;33m=\u001b[0m \u001b[0mloss\u001b[0m\u001b[1;33m(\u001b[0m\u001b[0mmodel\u001b[0m\u001b[1;33m,\u001b[0m \u001b[0mfeatures\u001b[0m\u001b[1;33m,\u001b[0m \u001b[0mtarget\u001b[0m\u001b[1;33m)\u001b[0m\u001b[1;33m\u001b[0m\u001b[1;33m\u001b[0m\u001b[0m\n\u001b[0m\u001b[0;32m      7\u001b[0m \u001b[0mprint\u001b[0m\u001b[1;33m(\u001b[0m\u001b[1;34m\"Loss test: {}\"\u001b[0m\u001b[1;33m.\u001b[0m\u001b[0mformat\u001b[0m\u001b[1;33m(\u001b[0m\u001b[0ml\u001b[0m\u001b[1;33m)\u001b[0m\u001b[1;33m)\u001b[0m\u001b[1;33m\u001b[0m\u001b[1;33m\u001b[0m\u001b[0m\n",
      "\u001b[1;31mNameError\u001b[0m: name 'model' is not defined"
     ]
    }
   ],
   "source": [
    "def loss(model, x, y):\n",
    "  y_ = model(x)\n",
    "  return tf.losses.sparse_softmax_cross_entropy(labels=y, logits=y_)\n",
    "\n",
    "\n",
    "l = loss(model, features, target)\n",
    "print(\"Loss test: {}\".format(l))"
   ]
  },
  {
   "cell_type": "code",
   "execution_count": 50,
   "metadata": {},
   "outputs": [
    {
     "data": {
      "text/plain": [
       "['age',\n",
       " 'workclass',\n",
       " 'fnlwgt',\n",
       " 'education',\n",
       " 'marital_status',\n",
       " 'ocupation',\n",
       " 'ethnicity',\n",
       " 'gender',\n",
       " 'capital_gain',\n",
       " 'capital_loss',\n",
       " 'hours_per_week',\n",
       " 'native_country']"
      ]
     },
     "execution_count": 50,
     "metadata": {},
     "output_type": "execute_result"
    }
   ],
   "source": [
    "model = tf.keras.Sequential([\n",
    "  tf.keras.layers.Dense(10, activation=tf.nn.relu, input_shape=(4,)),  # input shape required\n",
    "  tf.keras.layers.Dense(10, activation=tf.nn.relu),\n",
    "  tf.keras.layers.Dense(3)\n",
    "])"
   ]
  },
  {
   "cell_type": "code",
   "execution_count": null,
   "metadata": {},
   "outputs": [],
   "source": []
  }
 ],
 "metadata": {
  "kernelspec": {
   "display_name": "Python 3",
   "language": "python",
   "name": "python3"
  },
  "language_info": {
   "codemirror_mode": {
    "name": "ipython",
    "version": 3
   },
   "file_extension": ".py",
   "mimetype": "text/x-python",
   "name": "python",
   "nbconvert_exporter": "python",
   "pygments_lexer": "ipython3",
   "version": "3.7.1"
  }
 },
 "nbformat": 4,
 "nbformat_minor": 2
}
